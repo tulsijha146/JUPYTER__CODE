{
 "cells": [
  {
   "cell_type": "code",
   "execution_count": 2,
   "metadata": {},
   "outputs": [
    {
     "name": "stdout",
     "output_type": "stream",
     "text": [
      "Enter no of rows5\n",
      "    * \n",
      "   * * \n",
      "  * * * \n",
      " * * * * \n",
      "* * * * * \n"
     ]
    }
   ],
   "source": [
    "n=int(input(\"Enter no of rows\"))\n",
    "for i in range(n):\n",
    "    print(\" \"*(n-i-1)+\"* \"*(i+1))"
   ]
  },
  {
   "cell_type": "code",
   "execution_count": 6,
   "metadata": {},
   "outputs": [
    {
     "name": "stdout",
     "output_type": "stream",
     "text": [
      "Enter no of rows5\n",
      "    1 \n",
      "   2 2 \n",
      "  3 3 3 \n",
      " 4 4 4 4 \n",
      "5 5 5 5 5 \n"
     ]
    }
   ],
   "source": [
    "n=int(input(\"Enter no of rows\"))\n",
    "for i in range(n):\n",
    "    print(\" \"*(n-i-1)+(str(i+1)+\" \")*(i+1))"
   ]
  },
  {
   "cell_type": "code",
   "execution_count": 12,
   "metadata": {},
   "outputs": [
    {
     "name": "stdout",
     "output_type": "stream",
     "text": [
      "Enter number of rows7\n",
      "      A \n",
      "     B B \n",
      "    C C C \n",
      "   D D D D \n",
      "  E E E E E \n",
      " F F F F F F \n",
      "G G G G G G G \n"
     ]
    }
   ],
   "source": [
    "n=int(input(\"Enter number of rows\"))\n",
    "for i in range(n):\n",
    "    print(\" \"*(n-i-1)+(chr(65+i)+' ')*(i+1))"
   ]
  },
  {
   "cell_type": "code",
   "execution_count": 18,
   "metadata": {},
   "outputs": [
    {
     "name": "stdout",
     "output_type": "stream",
     "text": [
      "Enter no of rows--4\n",
      "   1\n",
      "  12\n",
      " 123\n",
      "1234\n"
     ]
    }
   ],
   "source": [
    "n=int(input(\"Enter no of rows--\"))\n",
    "for i in range(n):\n",
    "    print(' '*(n-i-1),end=\"\")\n",
    "    for j in range(i+1):\n",
    "        print(j+1,end='')\n",
    "    print()"
   ]
  },
  {
   "cell_type": "code",
   "execution_count": 1,
   "metadata": {},
   "outputs": [
    {
     "name": "stdout",
     "output_type": "stream",
     "text": [
      "Enter no of rows--5\n",
      "    1 \n",
      "   1 2 \n",
      "  1 2 3 \n",
      " 1 2 3 4 \n",
      "1 2 3 4 5 \n"
     ]
    }
   ],
   "source": [
    "n=int(input(\"Enter no of rows--\"))\n",
    "for i in range(n):\n",
    "    print((' '*(n-i-1)),end=\"\")\n",
    "    for j in range(i+1):\n",
    "        print(j+1,end=' ')\n",
    "    print()"
   ]
  },
  {
   "cell_type": "code",
   "execution_count": 4,
   "metadata": {},
   "outputs": [
    {
     "name": "stdout",
     "output_type": "stream",
     "text": [
      "Enter no of rows--5\n",
      "    A \n",
      "   A B \n",
      "  A B C \n",
      " A B C D \n",
      "A B C D E \n"
     ]
    }
   ],
   "source": [
    "n=int(input(\"Enter no of rows--\"))\n",
    "for i in range(n):\n",
    "    print(' '*(n-i-1),end=\"\")\n",
    "    for j in range(i+1):\n",
    "        print(chr(65+j),end=' ')\n",
    "    print()"
   ]
  },
  {
   "cell_type": "code",
   "execution_count": 1,
   "metadata": {},
   "outputs": [
    {
     "name": "stdout",
     "output_type": "stream",
     "text": [
      "Enter no of rows--5\n",
      "    a \n",
      "   a b \n",
      "  a b c \n",
      " a b c d \n",
      "a b c d e \n"
     ]
    }
   ],
   "source": [
    "n=int(input(\"Enter no of rows--\"))\n",
    "for i in range(n):\n",
    "    print(' '*(n-i-1)\n",
    "         ,end='')\n",
    "    for j in range(i+1):\n",
    "        print(chr(97+j),end=' ')\n",
    "    print()"
   ]
  },
  {
   "cell_type": "code",
   "execution_count": null,
   "metadata": {},
   "outputs": [],
   "source": []
  }
 ],
 "metadata": {
  "kernelspec": {
   "display_name": "Python 3",
   "language": "python",
   "name": "python3"
  },
  "language_info": {
   "codemirror_mode": {
    "name": "ipython",
    "version": 3
   },
   "file_extension": ".py",
   "mimetype": "text/x-python",
   "name": "python",
   "nbconvert_exporter": "python",
   "pygments_lexer": "ipython3",
   "version": "3.7.6"
  }
 },
 "nbformat": 4,
 "nbformat_minor": 4
}
